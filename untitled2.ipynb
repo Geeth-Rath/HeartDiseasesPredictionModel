{
  "nbformat": 4,
  "nbformat_minor": 0,
  "metadata": {
    "colab": {
      "provenance": [],
      "toc_visible": true,
      "authorship_tag": "ABX9TyPCrxH4HSOT93WdCTWHO2b6",
      "include_colab_link": true
    },
    "kernelspec": {
      "name": "python3",
      "display_name": "Python 3"
    },
    "language_info": {
      "name": "python"
    }
  },
  "cells": [
    {
      "cell_type": "markdown",
      "metadata": {
        "id": "view-in-github",
        "colab_type": "text"
      },
      "source": [
        "<a href=\"https://colab.research.google.com/github/Geeth-Rath/HeartDiseasesPredictionModel/blob/main/untitled2.ipynb\" target=\"_parent\"><img src=\"https://colab.research.google.com/assets/colab-badge.svg\" alt=\"Open In Colab\"/></a>"
      ]
    },
    {
      "cell_type": "code",
      "source": [
        "pip install pyspark"
      ],
      "metadata": {
        "colab": {
          "base_uri": "https://localhost:8080/"
        },
        "id": "Z_Hklq4TnBvK",
        "outputId": "81699773-c04a-4e19-9998-fa7dd548af99"
      },
      "execution_count": null,
      "outputs": [
        {
          "output_type": "stream",
          "name": "stdout",
          "text": [
            "Looking in indexes: https://pypi.org/simple, https://us-python.pkg.dev/colab-wheels/public/simple/\n",
            "Requirement already satisfied: pyspark in /usr/local/lib/python3.10/dist-packages (3.4.0)\n",
            "Requirement already satisfied: py4j==0.10.9.7 in /usr/local/lib/python3.10/dist-packages (from pyspark) (0.10.9.7)\n"
          ]
        }
      ]
    },
    {
      "cell_type": "code",
      "execution_count": null,
      "metadata": {
        "colab": {
          "base_uri": "https://localhost:8080/"
        },
        "id": "KYzVPDr7mkUz",
        "outputId": "456172d7-0a21-4188-e122-e379fffe4b18"
      },
      "outputs": [
        {
          "output_type": "stream",
          "name": "stdout",
          "text": [
            "+---+---+---------------+----------------------+-----------------+-------------------+------------------------------------+-----------------------+-----------------------+-------+-----+-----------------+----+------+\n",
            "|age|sex|chest_pain_type|resting_blood_pressure|serum_cholesterol|fasting_blood_sugar|resting_electrocardiographic_results|max_heart_rate_achieved|exercise_induced_angina|oldpeak|slope|num_major_vessels|thal|target|\n",
            "+---+---+---------------+----------------------+-----------------+-------------------+------------------------------------+-----------------------+-----------------------+-------+-----+-----------------+----+------+\n",
            "|52 |1  |0              |125                   |212              |0                  |1                                   |168                    |0                      |1      |2    |2                |3   |0     |\n",
            "|53 |1  |0              |140                   |203              |1                  |0                                   |155                    |1                      |null   |0    |0                |3   |0     |\n",
            "|70 |1  |0              |145                   |174              |0                  |1                                   |125                    |1                      |null   |0    |0                |3   |0     |\n",
            "|61 |1  |0              |148                   |203              |0                  |1                                   |161                    |0                      |0      |2    |1                |3   |0     |\n",
            "|62 |0  |0              |138                   |294              |1                  |1                                   |106                    |0                      |null   |1    |3                |2   |0     |\n",
            "|58 |0  |0              |100                   |248              |0                  |0                                   |122                    |0                      |1      |1    |0                |2   |1     |\n",
            "|58 |1  |0              |114                   |318              |0                  |2                                   |140                    |0                      |null   |0    |3                |1   |0     |\n",
            "|55 |1  |0              |160                   |289              |0                  |0                                   |145                    |1                      |null   |1    |1                |3   |0     |\n",
            "|46 |1  |0              |120                   |249              |0                  |0                                   |144                    |0                      |null   |2    |0                |3   |0     |\n",
            "|54 |1  |0              |122                   |286              |0                  |0                                   |116                    |1                      |null   |1    |2                |2   |0     |\n",
            "|71 |0  |0              |112                   |149              |0                  |1                                   |125                    |0                      |null   |1    |0                |2   |1     |\n",
            "|43 |0  |0              |132                   |341              |1                  |0                                   |136                    |1                      |3      |1    |0                |3   |0     |\n",
            "|34 |0  |1              |118                   |210              |0                  |1                                   |192                    |0                      |null   |2    |0                |2   |1     |\n",
            "|51 |1  |0              |140                   |298              |0                  |1                                   |122                    |1                      |null   |1    |3                |3   |0     |\n",
            "|52 |1  |0              |128                   |204              |1                  |1                                   |156                    |1                      |1      |1    |0                |0   |0     |\n",
            "|34 |0  |1              |118                   |210              |0                  |1                                   |192                    |0                      |null   |2    |0                |2   |1     |\n",
            "|51 |0  |2              |140                   |308              |0                  |0                                   |142                    |0                      |null   |2    |1                |2   |1     |\n",
            "|54 |1  |0              |124                   |266              |0                  |0                                   |109                    |1                      |null   |1    |1                |3   |0     |\n",
            "|50 |0  |1              |120                   |244              |0                  |1                                   |162                    |0                      |null   |2    |0                |2   |1     |\n",
            "|58 |1  |2              |140                   |211              |1                  |0                                   |165                    |0                      |0      |2    |0                |2   |1     |\n",
            "+---+---+---------------+----------------------+-----------------+-------------------+------------------------------------+-----------------------+-----------------------+-------+-----+-----------------+----+------+\n",
            "only showing top 20 rows\n",
            "\n"
          ]
        }
      ],
      "source": [
        "# Import necessary libraries\n",
        "from pyspark.sql import SparkSession\n",
        "from pyspark.sql.types import StructType, StructField, IntegerType, StringType, DoubleType\n",
        "from pyspark.sql.functions import col, desc, when\n",
        "\n",
        "# Create Spark session\n",
        "spark = SparkSession.builder.appName(\"HeartDiseaseAnalysis\").getOrCreate()\n",
        "\n",
        "# Define the schema for the dataset\n",
        "schema = StructType([\n",
        "    StructField(\"age\", IntegerType(), True),\n",
        "    StructField(\"sex\", IntegerType(), True),\n",
        "    StructField(\"chest_pain_type\", IntegerType(), True),\n",
        "    StructField(\"resting_blood_pressure\", IntegerType(), True),\n",
        "    StructField(\"serum_cholesterol\", IntegerType(), True),\n",
        "    StructField(\"fasting_blood_sugar\", IntegerType(), True),\n",
        "    StructField(\"resting_electrocardiographic_results\", IntegerType(), True),\n",
        "    StructField(\"max_heart_rate_achieved\", IntegerType(), True),\n",
        "    StructField(\"exercise_induced_angina\", IntegerType(), True),\n",
        "    StructField(\"oldpeak\", IntegerType(), True),\n",
        "    StructField(\"slope\", IntegerType(), True),\n",
        "    StructField(\"num_major_vessels\", IntegerType(), True),\n",
        "    StructField(\"thal\", IntegerType(), True),\n",
        "    StructField(\"target\", IntegerType(), True)\n",
        "])\n",
        "\n",
        "# Load the CSV file into a Spark DataFrame\n",
        "df = spark.read.csv(\"/content/heart.csv\", header=True, schema=schema)\n",
        "\n",
        "# # Load the CSV file \n",
        "# df = spark.read.csv(\"/content/heart.csv\", header=True, inferSchema=True )\n",
        "\n",
        "# Show the first 5 rows of the DataFrame\n",
        "df.show(truncate=False)"
      ]
    },
    {
      "cell_type": "code",
      "source": [
        "# get attribute schema\n",
        "df.printSchema()"
      ],
      "metadata": {
        "id": "bmzGtBKmqfmB"
      },
      "execution_count": null,
      "outputs": []
    },
    {
      "cell_type": "markdown",
      "source": [
        "check null values"
      ],
      "metadata": {
        "id": "avd7m5XWoofQ"
      }
    },
    {
      "cell_type": "code",
      "source": [
        "from pyspark.sql.functions import col, sum\n",
        "\n",
        "# Assuming the DataFrame is named \"df\"\n",
        "null_counts = df.select([sum(col(c).isNull().cast(\"int\")).alias(c) for c in df.columns])\n",
        "\n",
        "# Display the null counts\n",
        "null_counts.show()\n"
      ],
      "metadata": {
        "colab": {
          "base_uri": "https://localhost:8080/"
        },
        "id": "PlG2BHmjor8B",
        "outputId": "f9a0f7d9-c569-4312-9124-bf5c818aa4b8"
      },
      "execution_count": null,
      "outputs": [
        {
          "output_type": "stream",
          "name": "stdout",
          "text": [
            "+---+---+---------------+----------------------+-----------------+-------------------+------------------------------------+-----------------------+-----------------------+-------+-----+-----------------+----+------+\n",
            "|age|sex|chest_pain_type|resting_blood_pressure|serum_cholesterol|fasting_blood_sugar|resting_electrocardiographic_results|max_heart_rate_achieved|exercise_induced_angina|oldpeak|slope|num_major_vessels|thal|target|\n",
            "+---+---+---------------+----------------------+-----------------+-------------------+------------------------------------+-----------------------+-----------------------+-------+-----+-----------------+----+------+\n",
            "|  0|  0|              0|                     0|                0|                  0|                                   0|                      0|                      0|    584|    0|                0|   0|     0|\n",
            "+---+---+---------------+----------------------+-----------------+-------------------+------------------------------------+-----------------------+-----------------------+-------+-----+-----------------+----+------+\n",
            "\n"
          ]
        }
      ]
    },
    {
      "cell_type": "code",
      "source": [
        "#drop oldpeak colum as it has 584 null values\n",
        "df = df.drop(\"oldpeak\")\n",
        "df.show()"
      ],
      "metadata": {
        "colab": {
          "base_uri": "https://localhost:8080/"
        },
        "id": "GlpKordqqCKy",
        "outputId": "1787284d-abfa-4e52-bccc-844410a47339"
      },
      "execution_count": null,
      "outputs": [
        {
          "output_type": "stream",
          "name": "stdout",
          "text": [
            "+---+---+---------------+----------------------+-----------------+-------------------+------------------------------------+-----------------------+-----------------------+-----+-----------------+----+------+\n",
            "|age|sex|chest_pain_type|resting_blood_pressure|serum_cholesterol|fasting_blood_sugar|resting_electrocardiographic_results|max_heart_rate_achieved|exercise_induced_angina|slope|num_major_vessels|thal|target|\n",
            "+---+---+---------------+----------------------+-----------------+-------------------+------------------------------------+-----------------------+-----------------------+-----+-----------------+----+------+\n",
            "| 52|  1|              0|                   125|              212|                  0|                                   1|                    168|                      0|    2|                2|   3|     0|\n",
            "| 53|  1|              0|                   140|              203|                  1|                                   0|                    155|                      1|    0|                0|   3|     0|\n",
            "| 70|  1|              0|                   145|              174|                  0|                                   1|                    125|                      1|    0|                0|   3|     0|\n",
            "| 61|  1|              0|                   148|              203|                  0|                                   1|                    161|                      0|    2|                1|   3|     0|\n",
            "| 62|  0|              0|                   138|              294|                  1|                                   1|                    106|                      0|    1|                3|   2|     0|\n",
            "| 58|  0|              0|                   100|              248|                  0|                                   0|                    122|                      0|    1|                0|   2|     1|\n",
            "| 58|  1|              0|                   114|              318|                  0|                                   2|                    140|                      0|    0|                3|   1|     0|\n",
            "| 55|  1|              0|                   160|              289|                  0|                                   0|                    145|                      1|    1|                1|   3|     0|\n",
            "| 46|  1|              0|                   120|              249|                  0|                                   0|                    144|                      0|    2|                0|   3|     0|\n",
            "| 54|  1|              0|                   122|              286|                  0|                                   0|                    116|                      1|    1|                2|   2|     0|\n",
            "| 71|  0|              0|                   112|              149|                  0|                                   1|                    125|                      0|    1|                0|   2|     1|\n",
            "| 43|  0|              0|                   132|              341|                  1|                                   0|                    136|                      1|    1|                0|   3|     0|\n",
            "| 34|  0|              1|                   118|              210|                  0|                                   1|                    192|                      0|    2|                0|   2|     1|\n",
            "| 51|  1|              0|                   140|              298|                  0|                                   1|                    122|                      1|    1|                3|   3|     0|\n",
            "| 52|  1|              0|                   128|              204|                  1|                                   1|                    156|                      1|    1|                0|   0|     0|\n",
            "| 34|  0|              1|                   118|              210|                  0|                                   1|                    192|                      0|    2|                0|   2|     1|\n",
            "| 51|  0|              2|                   140|              308|                  0|                                   0|                    142|                      0|    2|                1|   2|     1|\n",
            "| 54|  1|              0|                   124|              266|                  0|                                   0|                    109|                      1|    1|                1|   3|     0|\n",
            "| 50|  0|              1|                   120|              244|                  0|                                   1|                    162|                      0|    2|                0|   2|     1|\n",
            "| 58|  1|              2|                   140|              211|                  1|                                   0|                    165|                      0|    2|                0|   2|     1|\n",
            "+---+---+---------------+----------------------+-----------------+-------------------+------------------------------------+-----------------------+-----------------------+-----+-----------------+----+------+\n",
            "only showing top 20 rows\n",
            "\n"
          ]
        }
      ]
    },
    {
      "cell_type": "markdown",
      "source": [
        " check duplicates"
      ],
      "metadata": {
        "id": "AFoZGDVlolyh"
      }
    },
    {
      "cell_type": "code",
      "source": [
        "from pyspark.sql.functions import col\n",
        "\n",
        "# Assuming that the DataFrame is already loaded and named as 'df'\n",
        "num_duplicates = df.count() - df.dropDuplicates().count()\n",
        "num_duplicates\n",
        "print(\"Number of duplicates in the DataFrame: \", num_duplicates)\n",
        "\n",
        "\n",
        "# Remove duplicates\n",
        "df.distinct()\n",
        "df.show(truncate=False)"
      ],
      "metadata": {
        "colab": {
          "base_uri": "https://localhost:8080/"
        },
        "id": "fb5SzxU3orRS",
        "outputId": "9111445b-4a1e-4bd4-e7a2-e7a91187649e"
      },
      "execution_count": null,
      "outputs": [
        {
          "output_type": "stream",
          "name": "stdout",
          "text": [
            "Number of duplicates in the DataFrame:  723\n",
            "+---+---+---------------+----------------------+-----------------+-------------------+------------------------------------+-----------------------+-----------------------+-----+-----------------+----+------+\n",
            "|age|sex|chest_pain_type|resting_blood_pressure|serum_cholesterol|fasting_blood_sugar|resting_electrocardiographic_results|max_heart_rate_achieved|exercise_induced_angina|slope|num_major_vessels|thal|target|\n",
            "+---+---+---------------+----------------------+-----------------+-------------------+------------------------------------+-----------------------+-----------------------+-----+-----------------+----+------+\n",
            "|52 |1  |0              |125                   |212              |0                  |1                                   |168                    |0                      |2    |2                |3   |0     |\n",
            "|53 |1  |0              |140                   |203              |1                  |0                                   |155                    |1                      |0    |0                |3   |0     |\n",
            "|70 |1  |0              |145                   |174              |0                  |1                                   |125                    |1                      |0    |0                |3   |0     |\n",
            "|61 |1  |0              |148                   |203              |0                  |1                                   |161                    |0                      |2    |1                |3   |0     |\n",
            "|62 |0  |0              |138                   |294              |1                  |1                                   |106                    |0                      |1    |3                |2   |0     |\n",
            "|58 |0  |0              |100                   |248              |0                  |0                                   |122                    |0                      |1    |0                |2   |1     |\n",
            "|58 |1  |0              |114                   |318              |0                  |2                                   |140                    |0                      |0    |3                |1   |0     |\n",
            "|55 |1  |0              |160                   |289              |0                  |0                                   |145                    |1                      |1    |1                |3   |0     |\n",
            "|46 |1  |0              |120                   |249              |0                  |0                                   |144                    |0                      |2    |0                |3   |0     |\n",
            "|54 |1  |0              |122                   |286              |0                  |0                                   |116                    |1                      |1    |2                |2   |0     |\n",
            "|71 |0  |0              |112                   |149              |0                  |1                                   |125                    |0                      |1    |0                |2   |1     |\n",
            "|43 |0  |0              |132                   |341              |1                  |0                                   |136                    |1                      |1    |0                |3   |0     |\n",
            "|34 |0  |1              |118                   |210              |0                  |1                                   |192                    |0                      |2    |0                |2   |1     |\n",
            "|51 |1  |0              |140                   |298              |0                  |1                                   |122                    |1                      |1    |3                |3   |0     |\n",
            "|52 |1  |0              |128                   |204              |1                  |1                                   |156                    |1                      |1    |0                |0   |0     |\n",
            "|34 |0  |1              |118                   |210              |0                  |1                                   |192                    |0                      |2    |0                |2   |1     |\n",
            "|51 |0  |2              |140                   |308              |0                  |0                                   |142                    |0                      |2    |1                |2   |1     |\n",
            "|54 |1  |0              |124                   |266              |0                  |0                                   |109                    |1                      |1    |1                |3   |0     |\n",
            "|50 |0  |1              |120                   |244              |0                  |1                                   |162                    |0                      |2    |0                |2   |1     |\n",
            "|58 |1  |2              |140                   |211              |1                  |0                                   |165                    |0                      |2    |0                |2   |1     |\n",
            "+---+---+---------------+----------------------+-----------------+-------------------+------------------------------------+-----------------------+-----------------------+-----+-----------------+----+------+\n",
            "only showing top 20 rows\n",
            "\n"
          ]
        }
      ]
    },
    {
      "cell_type": "markdown",
      "source": [
        "check outliers"
      ],
      "metadata": {
        "id": "X9t4Nq8LqZNB"
      }
    },
    {
      "cell_type": "code",
      "source": [
        "from pyspark.sql.functions import col, expr\n",
        "import matplotlib.pyplot as plt\n",
        "\n",
        "# Define the columns with numerical values\n",
        "num_cols = ['age', 'resting_blood_pressure', 'serum_cholesterol', 'max_heart_rate_achieved', 'num_major_vessels']\n",
        "\n",
        "# Iterate through each column and calculate the IQR range and identify outliers\n",
        "for c in num_cols:\n",
        "    # Calculate the IQR range for each column\n",
        "    Q1 = df.approxQuantile(c, [0.25], 0.05)[0]\n",
        "    Q3 = df.approxQuantile(c, [0.75], 0.05)[0]\n",
        "    IQR = Q3 - Q1\n",
        "\n",
        "    # Define the lower and upper bounds for outliers\n",
        "    lower_bound = Q1 - 1.5 * IQR\n",
        "    upper_bound = Q3 + 1.5 * IQR\n",
        "    # print(\"lower_bound\", lower_bound)\n",
        "    # print(\"upper_bound\", upper_bound)\n",
        "\n",
        "    # Identify the outliers in the column\n",
        "    outliers = df.filter((col(c) < lower_bound) | (col(c) > upper_bound))\n",
        "\n",
        "    # Print the outliers for each column\n",
        "    # outliers.show()\n",
        "    df.select(c).show()\n"
      ],
      "metadata": {
        "id": "hjc7OWvPDS_C"
      },
      "execution_count": null,
      "outputs": []
    },
    {
      "cell_type": "code",
      "source": [
        "from pyspark.sql.functions import col, when\n",
        "from pyspark.sql.types import IntegerType\n",
        "\n",
        "# Define a function to calculate lower and upper bounds for outlier detection\n",
        "def outlier_bounds(col_name):\n",
        "    q1, q3 = df.approxQuantile(col_name, [0.25, 0.75], 0)\n",
        "    iqr = q3 - q1\n",
        "    lower_bound = q1 - 1.5 * iqr\n",
        "    upper_bound = q3 + 1.5 * iqr\n",
        "    return lower_bound, upper_bound\n",
        "\n",
        "# Define the list of numerical columns\n",
        "num_cols = ['age', 'resting_blood_pressure', 'serum_cholesterol', 'max_heart_rate_achieved', 'num_major_vessels']\n",
        "\n",
        "# Calculate lower and upper bounds for each numerical column\n",
        "bounds = [outlier_bounds(c) for c in num_cols]\n",
        "\n",
        "\n",
        "# Define a function to check for outliers in a column and replace them with the median\n",
        "def replace_outliers(col_name):\n",
        "    lower_bound, upper_bound = outlier_bounds(col_name)\n",
        "    return when((col(col_name) < lower_bound) | (col(col_name) > upper_bound), None).otherwise(col(col_name))\n",
        "\n",
        "# Apply the outlier replacement function to each numerical column\n",
        "df = df.select([replace_outliers(c).alias(c) if c in num_cols else col(c) for c in df.columns])\n",
        "\n",
        "\n",
        "\n",
        "# Cast numerical columns to integer type\n",
        "for col_name in num_cols:\n",
        "    df = df.withColumn(col_name, col(col_name).cast(IntegerType()))\n",
        "\n",
        "# Show the resulting dataset\n",
        "df.show()\n"
      ],
      "metadata": {
        "id": "wjDAsGDX4OpH"
      },
      "execution_count": null,
      "outputs": []
    },
    {
      "cell_type": "code",
      "source": [
        "df"
      ],
      "metadata": {
        "colab": {
          "base_uri": "https://localhost:8080/"
        },
        "id": "puhtIwG423tx",
        "outputId": "6e65dda3-c9dd-47bb-d087-f8b7b678ba5e"
      },
      "execution_count": null,
      "outputs": [
        {
          "output_type": "execute_result",
          "data": {
            "text/plain": [
              "DataFrame[age: int, sex: int, chest_pain_type: int, resting_blood_pressure: int, serum_cholesterol: int, fasting_blood_sugar: int, resting_electrocardiographic_results: int, max_heart_rate_achieved: int, exercise_induced_angina: int, slope: int, num_major_vessels: int, thal: int, target: int]"
            ]
          },
          "metadata": {},
          "execution_count": 100
        }
      ]
    },
    {
      "cell_type": "markdown",
      "source": [
        "use map reduce"
      ],
      "metadata": {
        "id": "72fpN2t8wSdg"
      }
    },
    {
      "cell_type": "code",
      "source": [
        "# Define map function to extract the heart disease status\n",
        "def extract_status(row):\n",
        "    status = row[\"target\"]\n",
        "    return (\"heart disease\", status)\n",
        "\n",
        "# Define reduce function to count the number of patients with heart disease\n",
        "def count_status(a, b):\n",
        "    return a + b\n",
        "\n",
        "# MapReduce\n",
        "status_count = df.rdd.map(extract_status).reduceByKey(count_status)\n",
        "\n",
        "# Output the results\n",
        "for status, count in status_count.collect():\n",
        "    print(status + \" patients count: \" + str(count))\n",
        "\n",
        "# Stop Spark context\n",
        "spark.stop()\n"
      ],
      "metadata": {
        "colab": {
          "base_uri": "https://localhost:8080/"
        },
        "id": "YCtdt1mxuehe",
        "outputId": "72c32572-8e43-4afd-9bff-0f3637241ddf"
      },
      "execution_count": null,
      "outputs": [
        {
          "output_type": "stream",
          "name": "stdout",
          "text": [
            "heart disease patients count: 526\n"
          ]
        }
      ]
    },
    {
      "cell_type": "code",
      "source": [
        "# Import necessary libraries\n",
        "from pyspark.sql import SparkSession\n",
        "from pyspark.sql.types import StructType, StructField, IntegerType, StringType, DoubleType\n",
        "from pyspark.sql.functions import col, desc, when, avg\n",
        "\n",
        "# Filter the DataFrame by gender and calculate the average cholesterol level\n",
        "male_avg_cholesterol = df.filter(col(\"sex\") == 1).agg(avg(col(\"serum_cholesterol\")).alias(\"male_avg_cholesterol\")).collect()[0][\"male_avg_cholesterol\"]\n",
        "female_avg_cholesterol = df.filter(col(\"sex\") == 0).agg(avg(col(\"serum_cholesterol\")).alias(\"female_avg_cholesterol\")).collect()[0][\"female_avg_cholesterol\"]\n",
        "\n",
        "# Print the results\n",
        "print(\"Average cholesterol level for male patients: {:.2f}\".format(male_avg_cholesterol))\n",
        "print(\"Average cholesterol level for female patients: {:.2f}\".format(female_avg_cholesterol))"
      ],
      "metadata": {
        "colab": {
          "base_uri": "https://localhost:8080/"
        },
        "id": "pESjDZUD7yIJ",
        "outputId": "13a2106b-dd02-408a-cc30-e7ca2b7711c7"
      },
      "execution_count": null,
      "outputs": [
        {
          "output_type": "stream",
          "name": "stdout",
          "text": [
            "Average cholesterol level for male patients: 239.24\n",
            "Average cholesterol level for female patients: 261.46\n"
          ]
        }
      ]
    },
    {
      "cell_type": "code",
      "source": [
        "# Map function to extract the chest pain type and count as 1\n",
        "def extract_chest_pain_type(row):\n",
        "    chest_pain_type = row[\"chest_pain_type\"]\n",
        "    return (chest_pain_type, 1)\n",
        "\n",
        "# Reduce function to count the number of occurrences of each chest pain type\n",
        "def count_chest_pain_type(count1, count2):\n",
        "    return count1 + count2\n",
        "\n",
        "# Map-reduce operation to find the most common chest pain type\n",
        "chest_pain_count = df.rdd.map(extract_chest_pain_type).reduceByKey(count_chest_pain_type)\n",
        "\n",
        "most_common_chest_pain = chest_pain_count.sortBy(lambda x: x[1], ascending=False).first()\n",
        "\n",
        "print(\"The most common chest pain type is:\", most_common_chest_pain[0])"
      ],
      "metadata": {
        "colab": {
          "base_uri": "https://localhost:8080/"
        },
        "id": "4y9zr3LG9517",
        "outputId": "223b194e-3526-4dc6-f030-971389ad6cff"
      },
      "execution_count": null,
      "outputs": [
        {
          "output_type": "stream",
          "name": "stdout",
          "text": [
            "The most common chest pain type is: 0\n"
          ]
        }
      ]
    },
    {
      "cell_type": "markdown",
      "source": [
        "Prediction model"
      ],
      "metadata": {
        "id": "Bp26Pn23AfJp"
      }
    },
    {
      "cell_type": "code",
      "source": [
        "# Import necessary libraries\n",
        "from pyspark.ml.feature import VectorAssembler\n",
        "from pyspark.ml.classification import LogisticRegression\n",
        "from pyspark.ml.evaluation import BinaryClassificationEvaluator\n",
        "from pyspark.ml.tuning import CrossValidator, ParamGridBuilder\n",
        "\n",
        "# Split the dataset into training and testing sets\n",
        "(trainingData, testData) = df.randomSplit([0.7, 0.3], seed=1234)\n",
        "\n",
        "# Define the feature columns\n",
        "featureCols = ['age', 'sex', 'chest_pain_type', 'resting_blood_pressure', 'serum_cholesterol', 'fasting_blood_sugar', 'resting_electrocardiographic_results', 'max_heart_rate_achieved', 'exercise_induced_angina', 'slope', 'num_major_vessels', 'thal']\n",
        "\n",
        "\n",
        "# Vectorize the features\n",
        "assembler = VectorAssembler(inputCols=featureCols, outputCol='features')\n",
        "trainingData = assembler.transform(trainingData)\n",
        "testData = assembler.transform(testData)\n",
        "\n",
        "# Create a logistic regression model\n",
        "lr = LogisticRegression(featuresCol='features', labelCol='target', maxIter=10)\n",
        "\n",
        "# Define the hyperparameters to tune\n",
        "paramGrid = ParamGridBuilder() \\\n",
        "    .addGrid(lr.regParam, [0.01, 0.1, 1]) \\\n",
        "    .addGrid(lr.elasticNetParam, [0.0, 0.5, 1.0]) \\\n",
        "    .build()\n",
        "\n",
        "# Define the evaluator\n",
        "evaluator = BinaryClassificationEvaluator(rawPredictionCol='rawPrediction', labelCol='target')\n",
        "\n",
        "# Define the cross validator\n",
        "cv = CrossValidator(estimator=lr, estimatorParamMaps=paramGrid, evaluator=evaluator, numFolds=5)\n",
        "\n",
        "# Train the model\n",
        "cvModel = cv.fit(trainingData)\n",
        "\n",
        "# Make predictions on the test data\n",
        "predictions = cvModel.transform(testData)\n",
        "\n",
        "# Evaluate the model\n",
        "accuracy = evaluator.evaluate(predictions)\n",
        "print('Accuracy: {}'.format(accuracy))"
      ],
      "metadata": {
        "colab": {
          "base_uri": "https://localhost:8080/"
        },
        "id": "qOy6nPn2AmYw",
        "outputId": "52e4f90c-158b-4845-e6a0-4184c03859f2"
      },
      "execution_count": null,
      "outputs": [
        {
          "output_type": "stream",
          "name": "stdout",
          "text": [
            "Accuracy: 0.8790361658076742\n"
          ]
        }
      ]
    }
  ]
}